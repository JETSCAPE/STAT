{
 "cells": [
  {
   "cell_type": "markdown",
   "metadata": {},
   "source": [
    "# Set up example code\n",
    "\n",
    "## Model setup"
   ]
  },
  {
   "cell_type": "code",
   "execution_count": null,
   "metadata": {},
   "outputs": [],
   "source": [
    "import subprocess\n",
    "\n",
    "from sklearn.gaussian_process import GaussianProcessRegressor as GPR\n",
    "from sklearn.gaussian_process import kernels\n",
    "from sklearn.decomposition import PCA\n",
    "from sklearn.preprocessing import StandardScaler\n",
    "\n",
    "import matplotlib.cm as cm\n",
    "import matplotlib.pyplot as plt\n",
    "\n",
    "from scipy.linalg import lapack\n",
    "from scipy import stats\n",
    "import emcee\n",
    "import numpy as np\n",
    "\n",
    "import importlib\n",
    "\n",
    "import os\n",
    "import pickle\n",
    "from pathlib import Path\n",
    "\n",
    "import src.reader as Reader\n",
    "\n",
    "import pandas as pd"
   ]
  },
  {
   "cell_type": "markdown",
   "metadata": {},
   "source": [
    "## Step 1: prepare input pickle file"
   ]
  },
  {
   "cell_type": "markdown",
   "metadata": {},
   "source": [
    "### Load stuff from text files"
   ]
  },
  {
   "cell_type": "markdown",
   "metadata": {},
   "source": [
    "Input Directory"
   ]
  },
  {
   "cell_type": "code",
   "execution_count": null,
   "metadata": {},
   "outputs": [],
   "source": [
    "indir = '/scratch/user/cameron.parker/newJETSCAPE/JETSCAPE/runs/LEP-10-2/QVir_Analysis/'"
   ]
  },
  {
   "cell_type": "markdown",
   "metadata": {},
   "source": [
    "Prepare to read design to read in"
   ]
  },
  {
   "cell_type": "code",
   "execution_count": null,
   "metadata": {},
   "outputs": [],
   "source": [
    "df = pd.read_csv(indir+'parameters.txt')\n",
    "designlines = [\"# 2760\\n\",\"# Version 1.0\\n\",\"# Parameter \",df.to_string(index=False)]\n",
    "\n",
    "designfile = open(\"input/design.txt\",'w')\n",
    "designfile.writelines(designlines)\n",
    "designfile.close()\n",
    "\n",
    "RawDesign = Reader.ReadDesign(\"input/design.txt\")\n",
    "print(RawDesign)"
   ]
  },
  {
   "cell_type": "code",
   "execution_count": null,
   "metadata": {},
   "outputs": [],
   "source": [
    "# Read data files\n",
    "RawData1 = Reader.ReadData('/scratch/user/cameron.parker/newJETSCAPE/STAT/input/data/epem/charged-xp.dat')\n",
    "RawData2 = Reader.ReadData('/scratch/user/cameron.parker/newJETSCAPE/STAT/input/data/epem/pion-xp.dat')\n",
    "RawData3 = Reader.ReadData('/scratch/user/cameron.parker/newJETSCAPE/STAT/input/data/epem/kaon-xp.dat')\n",
    "RawData4 = Reader.ReadData('/scratch/user/cameron.parker/newJETSCAPE/STAT/input/data/epem/proton-xp.dat')\n",
    "RawData5 = Reader.ReadData('/scratch/user/cameron.parker/newJETSCAPE/STAT/input/data/epem/mult.dat')\n",
    "RawData6 = Reader.ReadData('/scratch/user/cameron.parker/newJETSCAPE/STAT/input/data/epem/thrust.dat')\n",
    "\n",
    "# Read model prediction\n",
    "RawPrediction1 = Reader.ReadPrediction(indir+'charged-xp.dat')\n",
    "RawPrediction2 = Reader.ReadPrediction(indir+'pion-xp.dat')\n",
    "RawPrediction3 = Reader.ReadPrediction(indir+'kaon-xp.dat')\n",
    "RawPrediction4 = Reader.ReadPrediction(indir+'proton-xp.dat')\n",
    "RawPrediction5 = Reader.ReadPrediction(indir+'mult.dat')\n",
    "RawPrediction6 = Reader.ReadPrediction(indir+'thrust.dat')"
   ]
  },
  {
   "cell_type": "code",
   "execution_count": null,
   "metadata": {},
   "outputs": [],
   "source": [
    "# xlabel ylabel xlog ylog\n",
    "plotvars = [\n",
    "    [\"xp\",\"dN/dxp\",\"log\",\"log\"],\n",
    "    [\"xp\",\"dN/dxp\",\"log\",\"log\"],\n",
    "    [\"xp\",\"dN/dxp\",\"log\",\"log\"],\n",
    "    [\"xp\",\"dN/dxp\",\"log\",\"log\"],\n",
    "    [\"N\",\"P\",\"linear\",\"log\"],\n",
    "    #[\"1-thrust\",\"P\",\"linear\",\"linear\"]\n",
    "]"
   ]
  },
  {
   "cell_type": "markdown",
   "metadata": {},
   "source": [
    "### Data formatting"
   ]
  },
  {
   "cell_type": "code",
   "execution_count": null,
   "metadata": {},
   "outputs": [],
   "source": [
    "# Initialize empty dictionary\n",
    "AllData = {}\n",
    "\n",
    "# Basic information\n",
    "AllData[\"systems\"] = [\"VaVa9999\"]\n",
    "AllData[\"keys\"] = RawDesign[\"Parameter\"]\n",
    "AllData[\"labels\"] = RawDesign[\"Parameter\"]\n",
    "AllData[\"ranges\"] = [(0.95, 3.0), (0.1, 1.0), (0.1, 0.4), (0.0, 1.5), (0.2, 0.5), (0.07, 0.2), (0.0, 0.25), (0.5, 2.5)]#, (0.5, 2.0), (0.5, 2.0), (0.5, 2.0)]\n",
    "AllData[\"observables\"] = [('Vac', ['charged-xp', \n",
    "                                   'pion-xp', \n",
    "                                   'kaon-xp', \n",
    "                                   'proton-xp', \n",
    "                                   'mult', \n",
    "                                   #'thrust',\n",
    "                                   ])]\n",
    "\n",
    "# Data points\n",
    "Data = {\"VaVa9999\": {\"Vac\": {\"charged-xp\": RawData1[\"Data\"], \n",
    "                             \"pion-xp\": RawData2[\"Data\"], \n",
    "                             \"kaon-xp\": RawData3[\"Data\"], \n",
    "                             \"proton-xp\": RawData4[\"Data\"], \n",
    "                             \"mult\": RawData5[\"Data\"], \n",
    "                             #\"thrust\": RawData6[\"Data\"],\n",
    "                             }}}\n",
    "\n",
    "# Model predictions\n",
    "Prediction = {\"VaVa9999\": {\"Vac\": {\"charged-xp\": {\"Y\": RawPrediction1[\"Prediction\"], \"x\": RawData1[\"Data\"]['x']},\n",
    "                                   \"pion-xp\": {\"Y\": RawPrediction2[\"Prediction\"], \"x\": RawData2[\"Data\"]['x']},\n",
    "                                   \"kaon-xp\": {\"Y\": RawPrediction3[\"Prediction\"], \"x\": RawData3[\"Data\"]['x']},\n",
    "                                   \"proton-xp\": {\"Y\": RawPrediction4[\"Prediction\"], \"x\": RawData4[\"Data\"]['x']},\n",
    "                                   \"mult\": {\"Y\": RawPrediction5[\"Prediction\"], \"x\": RawData5[\"Data\"]['x']},\n",
    "                                   #\"thrust\": {\"Y\": RawPrediction6[\"Prediction\"], \"x\": RawData6[\"Data\"]['x']},\n",
    "                                   }}}\n",
    "\n",
    "\n",
    "Covariance = Reader.InitializeCovariance(Data)\n",
    "Covariance[\"VaVa9999\"][(\"Vac\", \"charged-xp\")][(\"Vac\", \"charged-xp\")] = Reader.EstimateCovariance(RawData1, RawData1, SysLength = {\"default\": 0.05})\n",
    "Covariance[\"VaVa9999\"][(\"Vac\", \"pion-xp\")][(\"Vac\", \"pion-xp\")] = Reader.EstimateCovariance(RawData2, RawData2, SysLength = {\"default\": 0.05})\n",
    "Covariance[\"VaVa9999\"][(\"Vac\", \"kaon-xp\")][(\"Vac\", \"kaon-xp\")] = Reader.EstimateCovariance(RawData3, RawData3, SysLength = {\"default\": 0.05})\n",
    "Covariance[\"VaVa9999\"][(\"Vac\", \"proton-xp\")][(\"Vac\", \"proton-xp\")] = Reader.EstimateCovariance(RawData4, RawData4, SysLength = {\"default\": 0.05})\n",
    "Covariance[\"VaVa9999\"][(\"Vac\", \"mult\")][(\"Vac\", \"mult\")] = Reader.EstimateCovariance(RawData5, RawData5, SysLength = {\"default\": 0.05})\n",
    "#Covariance[\"VaVa9999\"][(\"Vac\", \"thrust\")][(\"Vac\", \"thrust\")] = Reader.EstimateCovariance(RawData6, RawData6, SysLength = {\"default\": 0.05})\n",
    "\n",
    "# Assign data to the dictionary\n",
    "AllData[\"design\"] = RawDesign[\"Design\"]\n",
    "AllData[\"model\"] = Prediction\n",
    "AllData[\"data\"] = Data\n",
    "AllData[\"cov\"] = Covariance\n",
    "Nobs = len(AllData[\"observables\"][0][1])\n",
    "\n",
    "# Save to the desired pickle file\n",
    "picklefile = 'input/vac-analysis.p'\n",
    "with open(picklefile, 'wb') as handle:\n",
    "    pickle.dump(AllData, handle, protocol = pickle.HIGHEST_PROTOCOL)\n",
    "\n",
    "Reader.Initialize(picklefile)"
   ]
  },
  {
   "cell_type": "markdown",
   "metadata": {},
   "source": [
    "### Optional: clean past files"
   ]
  },
  {
   "cell_type": "code",
   "execution_count": null,
   "metadata": {},
   "outputs": [],
   "source": [
    "# Clean past MCMC samples\n",
    "if os.path.exists('cache/mcmc_chain.hdf'):\n",
    "    os.remove(\"cache/mcmc_chain.hdf\")\n",
    "\n",
    "# Clean past emulator\n",
    "for system in AllData[\"systems\"]:\n",
    "    if os.path.exists('cache/emulator/' + system + \".pkl\"):\n",
    "        os.remove('cache/emulator/' + system + \".pkl\")"
   ]
  },
  {
   "cell_type": "markdown",
   "metadata": {},
   "source": [
    "## Step 2: run emulator"
   ]
  },
  {
   "cell_type": "code",
   "execution_count": null,
   "metadata": {},
   "outputs": [],
   "source": [
    "! python3 -m src.emulator --retrain --npc 10"
   ]
  },
  {
   "cell_type": "code",
   "execution_count": null,
   "metadata": {},
   "outputs": [],
   "source": [
    "from src import lazydict, emulator\n",
    "EmulatorVaVa9999 = emulator.Emulator.from_cache('VaVa9999')"
   ]
  },
  {
   "cell_type": "markdown",
   "metadata": {},
   "source": [
    "## Step 3: MCMC sampling"
   ]
  },
  {
   "cell_type": "code",
   "execution_count": null,
   "metadata": {},
   "outputs": [],
   "source": [
    "if os.path.exists('cache/mcmc_chain.hdf'):\n",
    "    os.remove(\"cache/mcmc_chain.hdf\")\n",
    "! python3 -m src.mcmc --nwalkers 500 --nburnsteps 500 1500 --picklefile $picklefile"
   ]
  },
  {
   "cell_type": "markdown",
   "metadata": {},
   "source": [
    "## Step 4: Analyze posterior samples"
   ]
  },
  {
   "cell_type": "code",
   "execution_count": null,
   "metadata": {},
   "outputs": [],
   "source": [
    "import src\n",
    "src.Initialize()\n",
    "from src import mcmc\n",
    "chain = mcmc.Chain(picklefile=picklefile)\n",
    "MCMCSamples = chain.load()"
   ]
  },
  {
   "cell_type": "code",
   "execution_count": null,
   "metadata": {},
   "outputs": [],
   "source": [
    "! python3 -m src.plots posterior gp diag_emu --picklefile $picklefile"
   ]
  },
  {
   "cell_type": "markdown",
   "metadata": {},
   "source": [
    "## Step 5: adding all sorts of plots"
   ]
  },
  {
   "cell_type": "code",
   "execution_count": null,
   "metadata": {},
   "outputs": [],
   "source": [
    "with chain.dataset() as d:\n",
    "    W = d.shape[0]     # number of walkers\n",
    "    S = d.shape[1]     # number of steps\n",
    "    N = d.shape[2]     # number of paramters\n",
    "    T = int(S / 200)   # \"thinning\"\n",
    "    A = 20 / W\n",
    "    figure, axes = plt.subplots(figsize = (15, 2 * N), ncols = 1, nrows = N)\n",
    "    for i, ax in enumerate(axes):\n",
    "        ax.set_ylabel(AllData[\"labels\"][i])\n",
    "        for j in range(0, W):\n",
    "            ax.plot(range(0, S, T), d[j, ::T, i], alpha = A)\n",
    "    plt.tight_layout()\n",
    "    plt.savefig('plots/MCMCSamples.pdf', dpi = 192)"
   ]
  },
  {
   "cell_type": "markdown",
   "metadata": {},
   "source": [
    "Parameter Distributions"
   ]
  },
  {
   "cell_type": "code",
   "execution_count": null,
   "metadata": {},
   "outputs": [],
   "source": [
    "from numpy import average\n",
    "\n",
    "\n",
    "NDimension = len(AllData[\"labels\"])\n",
    "Ranges = np.array(AllData[\"ranges\"]).T\n",
    "scale = 2\n",
    "figure, axes = plt.subplots(figsize = (scale * NDimension, scale * NDimension), ncols = NDimension, nrows = NDimension)\n",
    "Names = AllData[\"labels\"]\n",
    "for i, row in enumerate(axes):\n",
    "    for j, ax in enumerate(row):\n",
    "        if i==j:\n",
    "            y, x, _ = ax.hist(MCMCSamples[:,i], bins=50,\n",
    "                    range=Ranges[:,i], histtype='step', color='green')\n",
    "            ax.set_xlabel(Names[i])\n",
    "            ax.set_xlim(*Ranges[:,j])\n",
    "\n",
    "            maxindex = 0\n",
    "            maxy = y.max()\n",
    "            for k,thisy in enumerate(y): \n",
    "                if(thisy == maxy): \n",
    "                    maxindex = k\n",
    "\n",
    "            xmax = (x[maxindex]+x[maxindex+1])/2\n",
    "            print(AllData[\"labels\"][i] + \": \" + str(xmax))\n",
    "        if i>j:\n",
    "            ax.hist2d(MCMCSamples[:, j], MCMCSamples[:, i], \n",
    "                      bins=50, range=[Ranges[:,j], Ranges[:,i]], \n",
    "                      cmap='Greens')\n",
    "            ax.set_xlabel(Names[j])\n",
    "            ax.set_ylabel(Names[i])\n",
    "            ax.set_xlim(*Ranges[:,j])\n",
    "            ax.set_ylim(*Ranges[:,i])\n",
    "        if i<j:\n",
    "            ax.axis('off')\n",
    "\n",
    "    \n",
    "plt.tight_layout()\n",
    "plt.savefig('plots/Correlation.pdf', dpi = 192)\n",
    "# figure"
   ]
  },
  {
   "cell_type": "code",
   "execution_count": null,
   "metadata": {},
   "outputs": [],
   "source": [
    "from src.myplot import makeplot"
   ]
  },
  {
   "cell_type": "markdown",
   "metadata": {},
   "source": [
    "Observables"
   ]
  },
  {
   "cell_type": "code",
   "execution_count": null,
   "metadata": {},
   "outputs": [],
   "source": [
    "Examples = MCMCSamples[np.random.choice(range(len(MCMCSamples)), 2500), :]\n",
    "TempPrediction = {\"VaVa9999\": EmulatorVaVa9999.predict(Examples)}\n",
    "\n",
    "makeplot(AllData, plotvars, TempPrediction, \"Posteriors\")"
   ]
  },
  {
   "cell_type": "code",
   "execution_count": null,
   "metadata": {},
   "outputs": [],
   "source": [
    "Examples = AllData[\"design\"]\n",
    "TempPrediction = {\"VaVa9999\": EmulatorVaVa9999.predict(Examples)}\n",
    "\n",
    "makeplot(AllData, plotvars, TempPrediction, \"Predicted Design\")"
   ]
  },
  {
   "cell_type": "markdown",
   "metadata": {},
   "source": [
    "Priors"
   ]
  },
  {
   "cell_type": "code",
   "execution_count": null,
   "metadata": {},
   "outputs": [],
   "source": [
    "TempPrediction = AllData[\"model\"]\n",
    "\n",
    "makeplot(AllData, plotvars, TempPrediction, \"Priors\")"
   ]
  },
  {
   "cell_type": "code",
   "execution_count": null,
   "metadata": {},
   "outputs": [],
   "source": [
    "# close all plots to save memory\n",
    "plt.close('all')"
   ]
  }
 ],
 "metadata": {
  "kernelspec": {
   "display_name": "Python 3",
   "language": "python",
   "name": "python3"
  },
  "language_info": {
   "codemirror_mode": {
    "name": "ipython",
    "version": 3
   },
   "file_extension": ".py",
   "mimetype": "text/x-python",
   "name": "python",
   "nbconvert_exporter": "python",
   "pygments_lexer": "ipython3",
   "version": "3.6.8"
  }
 },
 "nbformat": 4,
 "nbformat_minor": 2
}
