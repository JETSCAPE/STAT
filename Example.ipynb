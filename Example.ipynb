{
 "cells": [
  {
   "cell_type": "markdown",
   "metadata": {},
   "source": [
    "# Set up example code\n",
    "\n",
    "## Model setup"
   ]
  },
  {
   "cell_type": "code",
   "execution_count": null,
   "metadata": {},
   "outputs": [],
   "source": [
    "import subprocess\n",
    "\n",
    "from sklearn.gaussian_process import GaussianProcessRegressor as GPR\n",
    "from sklearn.gaussian_process import kernels\n",
    "from sklearn.decomposition import PCA\n",
    "from sklearn.preprocessing import StandardScaler\n",
    "\n",
    "import matplotlib.cm as cm\n",
    "import matplotlib.pyplot as plt\n",
    "\n",
    "from scipy.linalg import lapack\n",
    "from scipy import stats\n",
    "import emcee\n",
    "import numpy as np\n",
    "\n",
    "import importlib\n",
    "\n",
    "import os\n",
    "import pickle\n",
    "from pathlib import Path\n",
    "\n",
    "import jetscape_stat.reader as Reader"
   ]
  },
  {
   "cell_type": "markdown",
   "metadata": {},
   "source": [
    "## Step 1: prepare input pickle file"
   ]
  },
  {
   "cell_type": "markdown",
   "metadata": {},
   "source": [
    "### Load stuff from text files"
   ]
  },
  {
   "cell_type": "code",
   "execution_count": null,
   "metadata": {},
   "outputs": [],
   "source": [
    "# Read data files\n",
    "RawData1 = Reader.ReadData('input/Example/Data_PHENIX_AuAu200_RAACharged_0to10_2013.dat')\n",
    "RawData2 = Reader.ReadData('input/Example/Data_PHENIX_AuAu200_RAACharged_40to50_2013.dat')\n",
    "RawData3 = Reader.ReadData('input/Example/Data_ATLAS_PbPb2760_RAACharged_0to5_2015.dat')\n",
    "RawData4 = Reader.ReadData('input/Example/Data_ATLAS_PbPb2760_RAACharged_30to40_2015.dat')\n",
    "RawData5 = Reader.ReadData('input/Example/Data_CMS_PbPb5020_RAACharged_0to10_2017.dat')\n",
    "RawData6 = Reader.ReadData('input/Example/Data_CMS_PbPb5020_RAACharged_30to50_2017.dat')\n",
    "\n",
    "# Read covariance\n",
    "# RawCov1 = Reader.ReadCovariance('input/Example/Covariance_PHENIX_AuAu200_RAACharged_0to10_2013_PHENIX_AuAu200_RAACharged_0to10_2013_SmallL.dat')\n",
    "# RawCov2 = Reader.ReadCovariance('input/Example/Covariance_PHENIX_AuAu200_RAACharged_40to50_2013_PHENIX_AuAu200_RAACharged_40to50_2013_SmallL.dat')\n",
    "# RawCov3 = Reader.ReadCovariance('input/Example/Covariance_ATLAS_PbPb2760_RAACharged_0to5_2015_ATLAS_PbPb2760_RAACharged_0to5_2015_SmallL.dat')\n",
    "# RawCov4 = Reader.ReadCovariance('input/Example/Covariance_ATLAS_PbPb2760_RAACharged_30to40_2015_ATLAS_PbPb2760_RAACharged_30to40_2015_SmallL.dat')\n",
    "# RawCov5 = Reader.ReadCovariance('input/Example/Covariance_CMS_PbPb5020_RAACharged_0to10_2017_CMS_PbPb5020_RAACharged_0to10_2017_SmallL.dat')\n",
    "# RawCov6 = Reader.ReadCovariance('input/Example/Covariance_CMS_PbPb5020_RAACharged_30to50_2017_CMS_PbPb5020_RAACharged_30to50_2017_SmallL.dat')\n",
    "\n",
    "# Read design points\n",
    "RawDesign = Reader.ReadDesign('input/Example/Design.dat')\n",
    "\n",
    "# Read model prediction\n",
    "RawPrediction1 = Reader.ReadPrediction('input/Example/Prediction_PHENIX_AuAu200_RAACharged_0to10_2013.dat')\n",
    "RawPrediction2 = Reader.ReadPrediction('input/Example/Prediction_PHENIX_AuAu200_RAACharged_40to50_2013.dat')\n",
    "RawPrediction3 = Reader.ReadPrediction('input/Example/Prediction_ATLAS_PbPb2760_RAACharged_0to5_2015.dat')\n",
    "RawPrediction4 = Reader.ReadPrediction('input/Example/Prediction_ATLAS_PbPb2760_RAACharged_30to40_2015.dat')\n",
    "RawPrediction5 = Reader.ReadPrediction('input/Example/Prediction_CMS_PbPb5020_RAACharged_0to10_2017.dat')\n",
    "RawPrediction6 = Reader.ReadPrediction('input/Example/Prediction_CMS_PbPb5020_RAACharged_30to50_2017.dat')"
   ]
  },
  {
   "cell_type": "markdown",
   "metadata": {},
   "source": [
    "### Run this block for RHIC + LHC"
   ]
  },
  {
   "cell_type": "code",
   "execution_count": null,
   "metadata": {},
   "outputs": [],
   "source": [
    "# Initialize empty dictionary\n",
    "AllData = {}\n",
    "\n",
    "# Basic information\n",
    "AllData[\"systems\"] = [\"AuAu200\", \"PbPb2760\", \"PbPb5020\"]\n",
    "AllData[\"keys\"] = RawDesign[\"Parameter\"]\n",
    "AllData[\"labels\"] = RawDesign[\"Parameter\"]\n",
    "AllData[\"ranges\"] = [(0, 1.5), (0, 1.0), (0, 20), (0, 20), (1, 4)]\n",
    "AllData[\"observables\"] = [('R_AA', ['C0', 'C1'])]\n",
    "\n",
    "# Data points\n",
    "Data = {\"AuAu200\": {\"R_AA\": {\"C0\": RawData1[\"Data\"], \"C1\": RawData2[\"Data\"]}},\n",
    "    \"PbPb2760\": {\"R_AA\": {\"C0\": RawData3[\"Data\"], \"C1\": RawData4[\"Data\"]}},\n",
    "    \"PbPb5020\": {\"R_AA\": {\"C0\": RawData5[\"Data\"], \"C1\": RawData6[\"Data\"]}}}\n",
    "\n",
    "# Model predictions\n",
    "Prediction = {\"AuAu200\": {\"R_AA\": {\"C0\": {\"Y\": RawPrediction1[\"Prediction\"], \"x\": RawData1[\"Data\"]['x']},\n",
    "                                   \"C1\": {\"Y\": RawPrediction2[\"Prediction\"], \"x\": RawData2[\"Data\"]['x']}}},\n",
    "             \"PbPb2760\": {\"R_AA\": {\"C0\": {\"Y\": RawPrediction3[\"Prediction\"], \"x\": RawData3[\"Data\"]['x']},\n",
    "                                   \"C1\": {\"Y\": RawPrediction4[\"Prediction\"], \"x\": RawData4[\"Data\"]['x']}}},\n",
    "             \"PbPb5020\": {\"R_AA\": {\"C0\": {\"Y\": RawPrediction5[\"Prediction\"], \"x\": RawData5[\"Data\"]['x']},\n",
    "                                   \"C1\": {\"Y\": RawPrediction6[\"Prediction\"], \"x\": RawData6[\"Data\"]['x']}}}}\n",
    "\n",
    "# Covariance matrices - the indices are [system][measurement1][measurement2], each one is a block of matrix\n",
    "Covariance = Reader.InitializeCovariance(Data)\n",
    "Covariance[\"AuAu200\"][(\"R_AA\", \"C0\")][(\"R_AA\", \"C0\")] = Reader.EstimateCovariance(RawData1, RawData1, SysLength = {\"default\": 0.05})\n",
    "Covariance[\"AuAu200\"][(\"R_AA\", \"C1\")][(\"R_AA\", \"C1\")] = Reader.EstimateCovariance(RawData2, RawData2, SysLength = {\"default\": 0.10})\n",
    "Covariance[\"PbPb2760\"][(\"R_AA\", \"C0\")][(\"R_AA\", \"C0\")] = Reader.EstimateCovariance(RawData3, RawData3, SysLength = {\"default\": 0.15})\n",
    "Covariance[\"PbPb2760\"][(\"R_AA\", \"C1\")][(\"R_AA\", \"C1\")] = Reader.EstimateCovariance(RawData4, RawData4, SysLength = {\"default\": 0.20})\n",
    "Covariance[\"PbPb5020\"][(\"R_AA\", \"C0\")][(\"R_AA\", \"C0\")] = Reader.EstimateCovariance(RawData5, RawData5, SysLength = {\"default\": 0.25})\n",
    "Covariance[\"PbPb5020\"][(\"R_AA\", \"C1\")][(\"R_AA\", \"C1\")] = Reader.EstimateCovariance(RawData6, RawData6, SysLength = {\"default\": 0.30})\n",
    "\n",
    "# This is how we can add off-diagonal matrices\n",
    "# Covariance[\"PbPb5020\"][(\"R_AA\", \"C0\")][(\"R_AA\", \"C1\")] = Reader.EstimateCovariance(RawData5, RawData6, SysLength = {\"default\": 100}, SysStrength = {\"default\": 0.1})\n",
    "# Covariance[\"PbPb5020\"][(\"R_AA\", \"C1\")][(\"R_AA\", \"C0\")] = Reader.EstimateCovariance(RawData6, RawData5, SysLength = {\"default\": 100}, SysStrength = {\"default\": 0.1})\n",
    "\n",
    "# This is how we can supply external pre-generated matrices\n",
    "# Covariance[\"AuAu200\"][(\"R_AA\", \"C0\")][(\"R_AA\", \"C0\")] = RawCov1[\"Matrix\"]\n",
    "\n",
    "\n",
    "# Assign data to the dictionary\n",
    "AllData[\"design\"] = RawDesign[\"Design\"]\n",
    "AllData[\"model\"] = Prediction\n",
    "AllData[\"data\"] = Data\n",
    "AllData[\"cov\"] = Covariance\n",
    "\n",
    "# Save to the desired pickle file\n",
    "with open('input/default.p', 'wb') as handle:\n",
    "    pickle.dump(AllData, handle, protocol = pickle.HIGHEST_PROTOCOL)"
   ]
  },
  {
   "cell_type": "markdown",
   "metadata": {},
   "source": [
    "### Optional: clean past files"
   ]
  },
  {
   "cell_type": "code",
   "execution_count": null,
   "metadata": {},
   "outputs": [],
   "source": [
    "# Clean past MCMC samples\n",
    "if os.path.exists('cache/mcmc_chain.hdf'):\n",
    "    os.remove(\"cache/mcmc_chain.hdf\")\n",
    "\n",
    "# Clean past emulator\n",
    "for system in AllData[\"systems\"]:\n",
    "    if os.path.exists('cache/emulator/' + system + \".pkl\"):\n",
    "        os.remove('cache/emulator/' + system + \".pkl\")"
   ]
  },
  {
   "cell_type": "markdown",
   "metadata": {},
   "source": [
    "## Step 2: run emulator"
   ]
  },
  {
   "cell_type": "code",
   "execution_count": null,
   "metadata": {},
   "outputs": [],
   "source": [
    "! python3 -m jetscape_stat.emulator --retrain --npc 10"
   ]
  },
  {
   "cell_type": "code",
   "execution_count": null,
   "metadata": {},
   "outputs": [],
   "source": [
    "from src import lazydict, emulator\n",
    "EmulatorAuAu200 = emulator.Emulator.from_cache('AuAu200')\n",
    "EmulatorPbPb2760 = emulator.Emulator.from_cache('PbPb2760')\n",
    "EmulatorPbPb5020 = emulator.Emulator.from_cache('PbPb5020')"
   ]
  },
  {
   "cell_type": "markdown",
   "metadata": {},
   "source": [
    "## Step 3: MCMC sampling"
   ]
  },
  {
   "cell_type": "code",
   "execution_count": null,
   "metadata": {},
   "outputs": [],
   "source": [
    "if os.path.exists('cache/mcmc_chain.hdf'):\n",
    "    os.remove(\"cache/mcmc_chain.hdf\")\n",
    "! python3 -m jetscape_stat.mcmc --nwalkers 500 --nburnsteps 500 1500"
   ]
  },
  {
   "cell_type": "markdown",
   "metadata": {},
   "source": [
    "## Step 4: Analyze posterior samples"
   ]
  },
  {
   "cell_type": "code",
   "execution_count": null,
   "metadata": {},
   "outputs": [],
   "source": [
    "import jetscape_stat\n",
    "jetscape_stat.Initialize()\n",
    "from src import mcmc\n",
    "chain = mcmc.Chain()\n",
    "MCMCSamples = chain.load()\n",
    "\n",
    "TransformedSamples = np.copy(MCMCSamples)\n",
    "TransformedSamples[:,0] = MCMCSamples[:,0] * MCMCSamples[:,1]\n",
    "TransformedSamples[:,1] = MCMCSamples[:,0] - MCMCSamples[:,0] * MCMCSamples[:,1]\n",
    "TransformedSamples[:,2] = MCMCSamples[:,2]\n",
    "TransformedSamples[:,3] = MCMCSamples[:,3]\n",
    "TransformedSamples[:,4] = MCMCSamples[:,4]"
   ]
  },
  {
   "cell_type": "code",
   "execution_count": null,
   "metadata": {},
   "outputs": [],
   "source": [
    "! python3 -m jetscape_stat.plots posterior gp diag_emu"
   ]
  },
  {
   "cell_type": "markdown",
   "metadata": {},
   "source": [
    "## Step 5: adding all sorts of plots"
   ]
  },
  {
   "cell_type": "code",
   "execution_count": null,
   "metadata": {},
   "outputs": [],
   "source": [
    "with chain.dataset() as d:\n",
    "    W = d.shape[0]     # number of walkers\n",
    "    S = d.shape[1]     # number of steps\n",
    "    N = d.shape[2]     # number of paramters\n",
    "    T = int(S / 200)   # \"thinning\"\n",
    "    A = 20 / W\n",
    "    figure, axes = plt.subplots(figsize = (15, 2 * N), ncols = 1, nrows = N)\n",
    "    for i, ax in enumerate(axes):\n",
    "        for j in range(0, W):\n",
    "            ax.plot(range(0, S, T), d[j, ::T, i], alpha = A)\n",
    "    plt.tight_layout(True)\n",
    "    plt.savefig('plots/MCMCSamples.pdf', dpi = 192)"
   ]
  },
  {
   "cell_type": "code",
   "execution_count": null,
   "metadata": {},
   "outputs": [],
   "source": [
    "NDimension = len(AllData[\"labels\"])\n",
    "Ranges = np.array(AllData[\"ranges\"]).T\n",
    "figure, axes = plt.subplots(figsize = (3 * NDimension, 3 * NDimension), ncols = NDimension, nrows = NDimension)\n",
    "Names = AllData[\"labels\"]\n",
    "for i, row in enumerate(axes):\n",
    "    for j, ax in enumerate(row):\n",
    "        if i==j:\n",
    "            ax.hist(MCMCSamples[:,i], bins=50,\n",
    "                    range=Ranges[:,i], histtype='step', color='green')\n",
    "            ax.set_xlabel(Names[i])\n",
    "            ax.set_xlim(*Ranges[:,j])\n",
    "        if i>j:\n",
    "            ax.hist2d(MCMCSamples[:, j], MCMCSamples[:, i], \n",
    "                      bins=50, range=[Ranges[:,j], Ranges[:,i]], \n",
    "                      cmap='Greens')\n",
    "            ax.set_xlabel(Names[j])\n",
    "            ax.set_ylabel(Names[i])\n",
    "            ax.set_xlim(*Ranges[:,j])\n",
    "            ax.set_ylim(*Ranges[:,i])\n",
    "        if i<j:\n",
    "            ax.axis('off')\n",
    "plt.tight_layout(True)\n",
    "plt.savefig('plots/Correlation.pdf', dpi = 192)\n",
    "# figure"
   ]
  },
  {
   "cell_type": "code",
   "execution_count": null,
   "metadata": {},
   "outputs": [],
   "source": [
    "NDimension = 5\n",
    "Ranges = np.array(AllData[\"ranges\"]).T\n",
    "figure, axes = plt.subplots(figsize = (15, 15), ncols = NDimension, nrows = NDimension)\n",
    "Names = [r\"$A$\", r\"$C$\", r\"$B$\", r\"$D$\", r\"$Q$\", r\"$P_6$\"]\n",
    "for i, row in enumerate(axes):\n",
    "    for j, ax in enumerate(row):\n",
    "        if i==j:\n",
    "            ax.hist(TransformedSamples[:,i], bins=50,\n",
    "                    range=Ranges[:,i], histtype='step')\n",
    "            ax.set_xlabel(Names[i])\n",
    "            ax.set_xlim(*Ranges[:,j])\n",
    "        if i>j:\n",
    "            ax.hist2d(TransformedSamples[:, j], TransformedSamples[:, i], \n",
    "                      bins=50, range=[Ranges[:,j], Ranges[:,i]], \n",
    "                      cmap='Blues')\n",
    "            ax.set_xlabel(Names[j])\n",
    "            ax.set_ylabel(Names[i])\n",
    "            ax.set_xlim(*Ranges[:,j])\n",
    "            ax.set_ylim(*Ranges[:,i])\n",
    "        if i<j:\n",
    "            ax.axis('off')\n",
    "plt.tight_layout(True)\n",
    "plt.savefig('plots/TransformedCorrelation.pdf', dpi = 192)\n",
    "# figure"
   ]
  },
  {
   "cell_type": "code",
   "execution_count": null,
   "metadata": {},
   "outputs": [],
   "source": [
    "Examples = MCMCSamples[ np.random.choice(range(len(MCMCSamples)), 2500), :]\n",
    "\n",
    "TempPrediction = {\"AuAu200\": EmulatorAuAu200.predict(Examples),\n",
    "                 \"PbPb2760\": EmulatorPbPb2760.predict(Examples),\n",
    "                 \"PbPb5020\": EmulatorPbPb5020.predict(Examples)}\n",
    "\n",
    "SystemCount = len(AllData[\"systems\"])\n",
    "\n",
    "figure, axes = plt.subplots(figsize = (15, 5 * SystemCount), ncols = 2, nrows = SystemCount)\n",
    "\n",
    "for s1 in range(0, SystemCount):\n",
    "    for s2 in range(0, 2):\n",
    "        axes[s1][s2].set_xlabel(r\"$p_{T}$\")\n",
    "        axes[s1][s2].set_ylabel(r\"$R_{AA}$\")\n",
    "        \n",
    "        S1 = AllData[\"systems\"][s1]\n",
    "        O  = AllData[\"observables\"][0][0]\n",
    "        S2 = AllData[\"observables\"][0][1][s2]\n",
    "        \n",
    "        DX = AllData[\"data\"][S1][O][S2]['x']\n",
    "        DY = AllData[\"data\"][S1][O][S2]['y']\n",
    "        DE = np.sqrt(AllData[\"data\"][S1][O][S2]['yerr']['stat'][:,0]**2 + AllData[\"data\"][S1][O][S2]['yerr']['sys'][:,0]**2)\n",
    "                \n",
    "        for i, y in enumerate(TempPrediction[S1][O][S2]):\n",
    "            axes[s1][s2].plot(DX, y, 'b-', alpha=0.005, label=\"Posterior\" if i==0 else '')\n",
    "        axes[s1][s2].errorbar(DX, DY, yerr = DE, fmt='ro', label=\"Measurements\")\n",
    "\n",
    "plt.tight_layout(True)\n",
    "figure.savefig('plots/ObservablePosterior.pdf', dpi = 192)\n",
    "# figure"
   ]
  },
  {
   "cell_type": "code",
   "execution_count": null,
   "metadata": {},
   "outputs": [],
   "source": [
    "Examples = AllData[\"design\"]\n",
    "\n",
    "TempPrediction = {\"AuAu200\": EmulatorAuAu200.predict(Examples),\n",
    "                 \"PbPb2760\": EmulatorPbPb2760.predict(Examples),\n",
    "                 \"PbPb5020\": EmulatorPbPb5020.predict(Examples)}\n",
    "\n",
    "SystemCount = len(AllData[\"systems\"])\n",
    "\n",
    "figure, axes = plt.subplots(figsize = (15, 5 * SystemCount), ncols = 2, nrows = SystemCount)\n",
    "\n",
    "for s1 in range(0, SystemCount):\n",
    "    for s2 in range(0, 2):\n",
    "        axes[s1][s2].set_xlabel(r\"$p_{T}$\")\n",
    "        axes[s1][s2].set_ylabel(r\"$R_{AA}$\")\n",
    "        \n",
    "        S1 = AllData[\"systems\"][s1]\n",
    "        O  = AllData[\"observables\"][0][0]\n",
    "        S2 = AllData[\"observables\"][0][1][s2]\n",
    "        \n",
    "        DX = AllData[\"data\"][S1][O][S2]['x']\n",
    "        DY = AllData[\"data\"][S1][O][S2]['y']\n",
    "        DE = np.sqrt(AllData[\"data\"][S1][O][S2]['yerr']['stat'][:,0]**2 + AllData[\"data\"][S1][O][S2]['yerr']['sys'][:,0]**2)\n",
    "                \n",
    "        for i, y in enumerate(TempPrediction[S1][O][S2]):\n",
    "            axes[s1][s2].plot(DX, y, 'b-', alpha=0.1, label=\"Posterior\" if i==0 else '')\n",
    "        axes[s1][s2].errorbar(DX, DY, yerr = DE, fmt='ro', label=\"Measurements\")\n",
    "\n",
    "plt.tight_layout(True)\n",
    "figure.savefig('plots/PredictedDesign.pdf', dpi = 192)\n",
    "# figure"
   ]
  },
  {
   "cell_type": "code",
   "execution_count": null,
   "metadata": {},
   "outputs": [],
   "source": [
    "TempPrediction = AllData[\"model\"]\n",
    "\n",
    "SystemCount = len(AllData[\"systems\"])\n",
    "\n",
    "figure, axes = plt.subplots(figsize = (15, 5 * SystemCount), ncols = 2, nrows = SystemCount)\n",
    "\n",
    "for s1 in range(0, SystemCount):\n",
    "    for s2 in range(0, 2):\n",
    "        axes[s1][s2].set_xlabel(r\"$p_{T}$\")\n",
    "        axes[s1][s2].set_ylabel(r\"$R_{AA}$\")\n",
    "        \n",
    "        S1 = AllData[\"systems\"][s1]\n",
    "        O  = AllData[\"observables\"][0][0]\n",
    "        S2 = AllData[\"observables\"][0][1][s2]\n",
    "        \n",
    "        DX = AllData[\"data\"][S1][O][S2]['x']\n",
    "        DY = AllData[\"data\"][S1][O][S2]['y']\n",
    "        DE = np.sqrt(AllData[\"data\"][S1][O][S2]['yerr']['stat'][:,0]**2 + AllData[\"data\"][S1][O][S2]['yerr']['sys'][:,0]**2)\n",
    "                \n",
    "        for i, y in enumerate(TempPrediction[S1][O][S2]['Y']):\n",
    "            axes[s1][s2].plot(DX, y, 'b-', alpha=0.1, label=\"Posterior\" if i==0 else '')\n",
    "        axes[s1][s2].errorbar(DX, DY, yerr = DE, fmt='ro', label=\"Measurements\")\n",
    "\n",
    "plt.tight_layout(True)\n",
    "figure.savefig('plots/Design.pdf', dpi = 192)\n",
    "# figure"
   ]
  },
  {
   "cell_type": "code",
   "execution_count": null,
   "metadata": {},
   "outputs": [],
   "source": [
    "# close all plots to save memory\n",
    "plt.close('all')"
   ]
  }
 ],
 "metadata": {
  "kernelspec": {
   "display_name": "Python 3",
   "language": "python",
   "name": "python3"
  },
  "language_info": {
   "codemirror_mode": {
    "name": "ipython",
    "version": 3
   },
   "file_extension": ".py",
   "mimetype": "text/x-python",
   "name": "python",
   "nbconvert_exporter": "python",
   "pygments_lexer": "ipython3",
   "version": "3.6.3"
  }
 },
 "nbformat": 4,
 "nbformat_minor": 2
}
