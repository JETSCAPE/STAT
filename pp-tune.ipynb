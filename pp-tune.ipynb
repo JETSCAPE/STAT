{
 "cells": [
  {
   "cell_type": "markdown",
   "metadata": {},
   "source": [
    "# Set up example code\n",
    "\n",
    "## Model setup"
   ]
  },
  {
   "cell_type": "code",
   "execution_count": null,
   "metadata": {},
   "outputs": [],
   "source": [
    "import subprocess\n",
    "\n",
    "from sklearn.gaussian_process import GaussianProcessRegressor as GPR\n",
    "from sklearn.gaussian_process import kernels\n",
    "from sklearn.decomposition import PCA\n",
    "from sklearn.preprocessing import StandardScaler\n",
    "\n",
    "import matplotlib.cm as cm\n",
    "import matplotlib.pyplot as plt\n",
    "\n",
    "from scipy.linalg import lapack\n",
    "from scipy import stats\n",
    "import emcee\n",
    "import numpy as np\n",
    "\n",
    "import importlib\n",
    "\n",
    "import os\n",
    "import pickle\n",
    "from pathlib import Path\n",
    "\n",
    "import src.reader as Reader\n",
    "\n",
    "import pandas as pd"
   ]
  },
  {
   "cell_type": "markdown",
   "metadata": {},
   "source": [
    "## Step 1: prepare input pickle file"
   ]
  },
  {
   "cell_type": "markdown",
   "metadata": {},
   "source": [
    "### Load stuff from text files"
   ]
  },
  {
   "cell_type": "markdown",
   "metadata": {},
   "source": [
    "Input Directory"
   ]
  },
  {
   "cell_type": "code",
   "execution_count": null,
   "metadata": {},
   "outputs": [],
   "source": [
    "LHCdir = '/scratch/user/cameron.parker/projects/JETSCAPE/runs/LHCdesign/QVir_Analysis/'"
   ]
  },
  {
   "cell_type": "markdown",
   "metadata": {},
   "source": [
    "Prepare to read design to read in"
   ]
  },
  {
   "cell_type": "code",
   "execution_count": null,
   "metadata": {},
   "outputs": [],
   "source": [
    "df = pd.read_csv(LHCdir+'parameters.txt')\n",
    "designlines = [\"# 2760\\n\",\"# Version 1.0\\n\",\"# Parameter \",df.to_string(index=False)]\n",
    "\n",
    "designfile = open(\"input/design.txt\",'w')\n",
    "designfile.writelines(designlines)\n",
    "designfile.close()\n",
    "\n",
    "RawDesign = Reader.ReadDesign(\"input/design.txt\")\n",
    "print(RawDesign)"
   ]
  },
  {
   "cell_type": "code",
   "execution_count": null,
   "metadata": {},
   "outputs": [],
   "source": [
    "# Read data files\n",
    "Hads2760Data = Reader.ReadData('/scratch/user/cameron.parker/projects/STAT/input/vac-data/Data_CMS_PrPr2760_charged-hads.dat')\n",
    "JetR2_2760Data = Reader.ReadData('/scratch/user/cameron.parker/projects/STAT/input/vac-data/Data_CMS_PrPr2760_jets-2.dat')\n",
    "JetR3_2760Data = Reader.ReadData('/scratch/user/cameron.parker/projects/STAT/input/vac-data/Data_CMS_PrPr2760_jets-3.dat')\n",
    "JetR4_2760Data = Reader.ReadData('/scratch/user/cameron.parker/projects/STAT/input/vac-data/Data_CMS_PrPr2760_jets-4.dat')\n",
    "Pions2760Data = Reader.ReadData('/scratch/user/cameron.parker/projects/STAT/input/vac-data/Data_ALICE_PrPr2760_pions.dat')\n",
    "Kaons2760Data = Reader.ReadData('/scratch/user/cameron.parker/projects/STAT/input/vac-data/Data_ALICE_PrPr2760_kaons.dat')\n",
    "Protons2760Data = Reader.ReadData('/scratch/user/cameron.parker/projects/STAT/input/vac-data/Data_ALICE_PrPr2760_protons.dat')\n",
    "\n",
    "# Read model prediction\n",
    "Hads2760Pred = Reader.ReadPrediction(LHCdir+'HadronSpectraPrediction.dat')\n",
    "JetsR2_2760Pred = Reader.ReadPrediction(LHCdir+'JetSpectraPredictionR2.dat')\n",
    "JetsR3_2760Pred = Reader.ReadPrediction(LHCdir+'JetSpectraPredictionR3.dat')\n",
    "JetsR4_2760Pred = Reader.ReadPrediction(LHCdir+'JetSpectraPredictionR4.dat')\n",
    "Pions2760Pred = Reader.ReadPrediction(LHCdir+'PionSpectraPrediction.dat')\n",
    "Kaons2760Pred = Reader.ReadPrediction(LHCdir+'KaonSpectraPrediction.dat')\n",
    "Protons2760Pred = Reader.ReadPrediction(LHCdir+'ProtonSpectraPrediction.dat')"
   ]
  },
  {
   "cell_type": "code",
   "execution_count": null,
   "metadata": {},
   "outputs": [],
   "source": [
    "# xlabel ylabel xlog ylog\n",
    "plotvars = [\n",
    "    [\"$p_T$\",\"$d^2\\sigma/dp_Td\\eta$\",\"linear\",\"log\"],\n",
    "    [\"$p_T$\",\"$d^2\\sigma/dp_Td\\eta$\",\"linear\",\"log\"],\n",
    "    [\"$p_T$\",\"$d^2\\sigma/dp_Td\\eta$\",\"linear\",\"log\"],\n",
    "    [\"$p_T$\",\"$d^2\\N/dp_Td\\eta$\",\"log\",\"log\"],\n",
    "    [\"$p_T$\",\"$d^2\\N/dp_Td\\eta$\",\"log\",\"log\"],\n",
    "    [\"$p_T$\",\"$d^2\\N/dp_Td\\eta$\",\"log\",\"log\"],\n",
    "    [\"$p_T$\",\"$d^2\\N/dp_Td\\eta$\",\"log\",\"log\"],\n",
    "]"
   ]
  },
  {
   "cell_type": "markdown",
   "metadata": {},
   "source": [
    "### Data formatting"
   ]
  },
  {
   "cell_type": "code",
   "execution_count": null,
   "metadata": {},
   "outputs": [],
   "source": [
    "# Initialize empty dictionary\n",
    "AllData = {}\n",
    "\n",
    "# Basic information\n",
    "AllData[\"systems\"] = [\"PrPr2760\"]\n",
    "AllData[\"keys\"] = RawDesign[\"Parameter\"]\n",
    "AllData[\"labels\"] = RawDesign[\"Parameter\"]\n",
    "AllData[\"ranges\"] = [(0.1, 0.5), (1.0, 5.0), (0.95, 3.0), (0.1, 1.0), (0.1, 0.4), (0.2, 0.5), (0.07, 0.2)]\n",
    "AllData[\"observables\"] = [('Vac', ['Jets2760R2', \n",
    "                                   'Jets2760R3', \n",
    "                                   'Jets2760R4', \n",
    "                                   'Hads2760', \n",
    "                                   'Pions2760', \n",
    "                                   'Kaons2760', \n",
    "                                   'Protons2760',\n",
    "                                   ])]\n",
    "\n",
    "# Data points\n",
    "Data = {\"PrPr2760\": {\"Vac\": {\"Jets2760R2\": JetR2_2760Data[\"Data\"], \n",
    "                             \"Jets2760R3\": JetR3_2760Data[\"Data\"], \n",
    "                             \"Jets2760R4\": JetR4_2760Data[\"Data\"], \n",
    "                             \"Hads2760\": Hads2760Data[\"Data\"], \n",
    "                             \"Pions2760\": Pions2760Data[\"Data\"], \n",
    "                             \"Kaons2760\": Kaons2760Data[\"Data\"], \n",
    "                             \"Protons2760\": Protons2760Data[\"Data\"], \n",
    "                             }}}\n",
    "\n",
    "# Model predictions\n",
    "Prediction = {\"PrPr2760\": {\"Vac\": {\"Jets2760R2\": {\"Y\": JetsR2_2760Pred[\"Prediction\"], \"x\": JetR2_2760Data[\"Data\"]['x']},\n",
    "                                   \"Jets2760R3\": {\"Y\": JetsR3_2760Pred[\"Prediction\"], \"x\": JetR3_2760Data[\"Data\"]['x']},\n",
    "                                   \"Jets2760R4\": {\"Y\": JetsR4_2760Pred[\"Prediction\"], \"x\": JetR4_2760Data[\"Data\"]['x']},\n",
    "                                   \"Hads2760\": {\"Y\": Hads2760Pred[\"Prediction\"], \"x\": Hads2760Data[\"Data\"]['x']},\n",
    "                                   \"Pions2760\": {\"Y\": Pions2760Pred[\"Prediction\"], \"x\": Pions2760Data[\"Data\"]['x']},\n",
    "                                   \"Kaons2760\": {\"Y\": Kaons2760Pred[\"Prediction\"], \"x\": Kaons2760Data[\"Data\"]['x']},\n",
    "                                   \"Protons2760\": {\"Y\": Protons2760Pred[\"Prediction\"], \"x\": Protons2760Data[\"Data\"]['x']},\n",
    "                                   }}}\n",
    "\n",
    "\n",
    "Covariance = Reader.InitializeCovariance(Data)\n",
    "Covariance[\"PrPr2760\"][(\"Vac\", \"Jets2760R2\")][(\"Vac\", \"Jets2760R2\")] = Reader.EstimateCovariance(JetR2_2760Data, JetR2_2760Data, SysLength = {\"default\": 0.05})\n",
    "Covariance[\"PrPr2760\"][(\"Vac\", \"Jets2760R3\")][(\"Vac\", \"Jets2760R3\")] = Reader.EstimateCovariance(JetR3_2760Data, JetR3_2760Data, SysLength = {\"default\": 0.05})\n",
    "Covariance[\"PrPr2760\"][(\"Vac\", \"Jets2760R4\")][(\"Vac\", \"Jets2760R4\")] = Reader.EstimateCovariance(JetR4_2760Data, JetR4_2760Data, SysLength = {\"default\": 0.05})\n",
    "Covariance[\"PrPr2760\"][(\"Vac\", \"Hads2760\")][(\"Vac\", \"Hads2760\")] = Reader.EstimateCovariance(Hads2760Data, Hads2760Data, SysLength = {\"default\": 0.05})\n",
    "Covariance[\"PrPr2760\"][(\"Vac\", \"Pions2760\")][(\"Vac\", \"Pions2760\")] = Reader.EstimateCovariance(Pions2760Data, Pions2760Data, SysLength = {\"default\": 0.05})\n",
    "Covariance[\"PrPr2760\"][(\"Vac\", \"Kaons2760\")][(\"Vac\", \"Kaons2760\")] = Reader.EstimateCovariance(Kaons2760Data, Kaons2760Data, SysLength = {\"default\": 0.05})\n",
    "Covariance[\"PrPr2760\"][(\"Vac\", \"Protons2760\")][(\"Vac\", \"Protons2760\")] = Reader.EstimateCovariance(Protons2760Data, Protons2760Data, SysLength = {\"default\": 0.05})\n",
    "\n",
    "# Assign data to the dictionary\n",
    "AllData[\"design\"] = RawDesign[\"Design\"]\n",
    "AllData[\"model\"] = Prediction\n",
    "AllData[\"data\"] = Data\n",
    "AllData[\"cov\"] = Covariance\n",
    "Nobs = len(AllData[\"observables\"][0][1])\n",
    "\n",
    "# Save to the desired pickle file\n",
    "picklefile = 'input/pp-analysis.p'\n",
    "with open(picklefile, 'wb') as handle:\n",
    "    pickle.dump(AllData, handle, protocol = pickle.HIGHEST_PROTOCOL)\n",
    "\n",
    "Reader.Initialize(picklefile)"
   ]
  },
  {
   "cell_type": "markdown",
   "metadata": {},
   "source": [
    "### Optional: clean past files"
   ]
  },
  {
   "cell_type": "code",
   "execution_count": null,
   "metadata": {},
   "outputs": [],
   "source": [
    "# Clean past MCMC samples\n",
    "if os.path.exists('cache/mcmc_chain.hdf'):\n",
    "    os.remove(\"cache/mcmc_chain.hdf\")\n",
    "\n",
    "# Clean past emulator\n",
    "for system in AllData[\"systems\"]:\n",
    "    if os.path.exists('cache/emulator/' + system + \".pkl\"):\n",
    "        os.remove('cache/emulator/' + system + \".pkl\")"
   ]
  },
  {
   "cell_type": "markdown",
   "metadata": {},
   "source": [
    "## Step 2: run emulator"
   ]
  },
  {
   "cell_type": "code",
   "execution_count": null,
   "metadata": {},
   "outputs": [],
   "source": [
    "! python3 -m src.emulator --retrain --npc 10"
   ]
  },
  {
   "cell_type": "code",
   "execution_count": null,
   "metadata": {},
   "outputs": [],
   "source": [
    "from src import lazydict, emulator\n",
    "EmulatorPrPr2760 = emulator.Emulator.from_cache('PrPr2760')"
   ]
  },
  {
   "cell_type": "markdown",
   "metadata": {},
   "source": [
    "## Step 3: MCMC sampling"
   ]
  },
  {
   "cell_type": "code",
   "execution_count": null,
   "metadata": {},
   "outputs": [],
   "source": [
    "if os.path.exists('cache/mcmc_chain.hdf'):\n",
    "    os.remove(\"cache/mcmc_chain.hdf\")\n",
    "! python3 -m src.mcmc --nwalkers 500 --nburnsteps 500 1500 --picklefile $picklefile"
   ]
  },
  {
   "cell_type": "markdown",
   "metadata": {},
   "source": [
    "## Step 4: Analyze posterior samples"
   ]
  },
  {
   "cell_type": "code",
   "execution_count": null,
   "metadata": {},
   "outputs": [],
   "source": [
    "import src\n",
    "src.Initialize()\n",
    "from src import mcmc\n",
    "chain = mcmc.Chain(picklefile=picklefile)\n",
    "MCMCSamples = chain.load()"
   ]
  },
  {
   "cell_type": "code",
   "execution_count": null,
   "metadata": {},
   "outputs": [],
   "source": [
    "! python3 -m src.plots posterior gp diag_emu --picklefile $picklefile"
   ]
  },
  {
   "cell_type": "markdown",
   "metadata": {},
   "source": [
    "## Step 5: adding all sorts of plots"
   ]
  },
  {
   "cell_type": "code",
   "execution_count": null,
   "metadata": {},
   "outputs": [],
   "source": [
    "with chain.dataset() as d:\n",
    "    W = d.shape[0]     # number of walkers\n",
    "    S = d.shape[1]     # number of steps\n",
    "    N = d.shape[2]     # number of paramters\n",
    "    T = int(S / 200)   # \"thinning\"\n",
    "    A = 20 / W\n",
    "    figure, axes = plt.subplots(figsize = (15, 2 * N), ncols = 1, nrows = N)\n",
    "    for i, ax in enumerate(axes):\n",
    "        ax.set_ylabel(AllData[\"labels\"][i])\n",
    "        for j in range(0, W):\n",
    "            ax.plot(range(0, S, T), d[j, ::T, i], alpha = A)\n",
    "    plt.tight_layout()\n",
    "    plt.savefig('plots/MCMCSamples.pdf', dpi = 192)"
   ]
  },
  {
   "cell_type": "markdown",
   "metadata": {},
   "source": [
    "Parameter Distributions"
   ]
  },
  {
   "cell_type": "code",
   "execution_count": null,
   "metadata": {},
   "outputs": [],
   "source": [
    "from numpy import average\n",
    "\n",
    "\n",
    "NDimension = len(AllData[\"labels\"])\n",
    "Ranges = np.array(AllData[\"ranges\"]).T\n",
    "scale = 2\n",
    "figure, axes = plt.subplots(figsize = (scale * NDimension, scale * NDimension), ncols = NDimension, nrows = NDimension)\n",
    "Names = AllData[\"labels\"]\n",
    "for i, row in enumerate(axes):\n",
    "    for j, ax in enumerate(row):\n",
    "        if i==j:\n",
    "            y, x, _ = ax.hist(MCMCSamples[:,i], bins=50,\n",
    "                    range=Ranges[:,i], histtype='step', color='green')\n",
    "            ax.set_xlabel(Names[i])\n",
    "            ax.set_xlim(*Ranges[:,j])\n",
    "\n",
    "            maxindex = 0\n",
    "            maxy = y.max()\n",
    "            for k,thisy in enumerate(y): \n",
    "                if(thisy == maxy): \n",
    "                    maxindex = k\n",
    "\n",
    "            xmax = (x[maxindex]+x[maxindex+1])/2\n",
    "            print(AllData[\"labels\"][i] + \": \" + str(xmax))\n",
    "        if i>j:\n",
    "            ax.hist2d(MCMCSamples[:, j], MCMCSamples[:, i], \n",
    "                      bins=50, range=[Ranges[:,j], Ranges[:,i]], \n",
    "                      cmap='Greens')\n",
    "            ax.set_xlabel(Names[j])\n",
    "            ax.set_ylabel(Names[i])\n",
    "            ax.set_xlim(*Ranges[:,j])\n",
    "            ax.set_ylim(*Ranges[:,i])\n",
    "        if i<j:\n",
    "            ax.axis('off')\n",
    "\n",
    "    \n",
    "plt.tight_layout()\n",
    "plt.savefig('plots/Correlation.pdf', dpi = 192)\n",
    "# figure"
   ]
  },
  {
   "cell_type": "code",
   "execution_count": null,
   "metadata": {},
   "outputs": [],
   "source": [
    "from src.myplot import makeplot"
   ]
  },
  {
   "cell_type": "markdown",
   "metadata": {},
   "source": [
    "Observables"
   ]
  },
  {
   "cell_type": "code",
   "execution_count": null,
   "metadata": {},
   "outputs": [],
   "source": [
    "Examples = MCMCSamples[np.random.choice(range(len(MCMCSamples)), 2500), :]\n",
    "TempPrediction = {\"PrPr2760\": EmulatorPrPr2760.predict(Examples)}\n",
    "\n",
    "makeplot(AllData, plotvars, TempPrediction, \"Posteriors\")"
   ]
  },
  {
   "cell_type": "code",
   "execution_count": null,
   "metadata": {},
   "outputs": [],
   "source": [
    "Examples = AllData[\"design\"]\n",
    "TempPrediction = {\"PrPr2760\": EmulatorPrPr2760.predict(Examples)}\n",
    "\n",
    "makeplot(AllData, plotvars, TempPrediction, \"Predicted Design\")"
   ]
  },
  {
   "cell_type": "markdown",
   "metadata": {},
   "source": [
    "Priors"
   ]
  },
  {
   "cell_type": "code",
   "execution_count": null,
   "metadata": {},
   "outputs": [],
   "source": [
    "TempPrediction = AllData[\"model\"]\n",
    "\n",
    "makeplot(AllData, plotvars, TempPrediction, \"Priors\")"
   ]
  },
  {
   "cell_type": "code",
   "execution_count": null,
   "metadata": {},
   "outputs": [],
   "source": [
    "# close all plots to save memory\n",
    "plt.close('all')"
   ]
  }
 ],
 "metadata": {
  "kernelspec": {
   "display_name": "Python 3",
   "language": "python",
   "name": "python3"
  },
  "language_info": {
   "codemirror_mode": {
    "name": "ipython",
    "version": 3
   },
   "file_extension": ".py",
   "mimetype": "text/x-python",
   "name": "python",
   "nbconvert_exporter": "python",
   "pygments_lexer": "ipython3",
   "version": "3.6.8"
  }
 },
 "nbformat": 4,
 "nbformat_minor": 2
}
