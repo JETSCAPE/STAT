{
 "cells": [
  {
   "cell_type": "markdown",
   "metadata": {},
   "source": [
    "# Simple exercise on Bayesian analysis\n",
    "\n",
    "For the next hands on exercise, we will an additional dataset.\n",
    "\n",
    "**These exercises are interactive**: a number of cells include `_______`, which signal that you should fill in the required value. If you've unable to execute a cell, carefully check whether you've filled in all of the required values.\n",
    "\n",
    "## Step 0: load all relevant modules"
   ]
  },
  {
   "cell_type": "code",
   "execution_count": null,
   "metadata": {},
   "outputs": [],
   "source": [
    "from __future__ import print_function\n",
    "\n",
    "import subprocess\n",
    "\n",
    "from sklearn.gaussian_process import GaussianProcessRegressor as GPR\n",
    "from sklearn.gaussian_process import kernels\n",
    "from sklearn.decomposition import PCA\n",
    "from sklearn.preprocessing import StandardScaler\n",
    "import joblib\n",
    "\n",
    "import matplotlib.cm as cm\n",
    "import matplotlib.pyplot as plt\n",
    "\n",
    "from IPython.display import display, clear_output\n",
    "\n",
    "from scipy.linalg import lapack\n",
    "from scipy import stats\n",
    "import emcee\n",
    "import numpy as np\n",
    "\n",
    "import os\n",
    "import pickle\n",
    "from pathlib import Path\n",
    "\n",
    "import src.reader as Reader\n",
    "\n",
    "from ipywidgets import interact, interactive, fixed, interact_manual\n",
    "import ipywidgets as widgets"
   ]
  },
  {
   "cell_type": "markdown",
   "metadata": {},
   "source": [
    "## Step 1: prepare input files"
   ]
  },
  {
   "cell_type": "markdown",
   "metadata": {},
   "source": [
    "### Load stuff from text files"
   ]
  },
  {
   "cell_type": "code",
   "execution_count": null,
   "metadata": {},
   "outputs": [],
   "source": [
    "# Read data files\n",
    "RawData1       = Reader.ReadData('input/SimpleExample/Data_Selection1.dat')\n",
    "RawData2       = Reader.ReadData('input/SimpleExample/Data_Selection2.dat')\n",
    "\n",
    "# Read design points\n",
    "RawDesign      = Reader.ReadDesign('input/SimpleExample/Design.dat')\n",
    "\n",
    "# Read model prediction\n",
    "RawPrediction1 = Reader.ReadPrediction('input/SimpleExample/Prediction_Selection1.dat')\n",
    "RawPrediction2 = Reader.ReadPrediction('input/SimpleExample/Prediction_Selection2.dat')"
   ]
  },
  {
   "cell_type": "markdown",
   "metadata": {},
   "source": [
    "### Run this block to prepare the inputs"
   ]
  },
  {
   "cell_type": "code",
   "execution_count": null,
   "metadata": {},
   "outputs": [],
   "source": [
    "# Initialize empty dictionary\n",
    "AllData = {}\n",
    "\n",
    "# Basic information\n",
    "AllData[\"systems\"] = [\"PbPb5020\"]\n",
    "AllData[\"keys\"] = RawDesign[\"Parameter\"]\n",
    "AllData[\"labels\"] = RawDesign[\"Parameter\"]\n",
    "AllData[\"ranges\"] = [(0, 1), (0, 1), (0, 1)]\n",
    "AllData[\"observables\"] = [('Y', ['C0', 'C1'])]\n",
    "\n",
    "# Data points\n",
    "Data = {\"PbPb5020\": {\"Y\": {\"C0\": RawData1[\"Data\"], \"C1\": RawData2[\"Data\"]}}}\n",
    "\n",
    "# Model predictions\n",
    "Prediction = {\"PbPb5020\": {\"Y\": {\"C0\": {\"Y\": RawPrediction1[\"Prediction\"], \"x\": RawData1[\"Data\"]['x']},\n",
    "                                 \"C1\": {\"Y\": RawPrediction2[\"Prediction\"], \"x\": RawData2[\"Data\"]['x']}}}}\n",
    "\n",
    "# Covariance matrices - the indices are [system][measurement1][measurement2], each one is a block of matrix\n",
    "Covariance = Reader.InitializeCovariance(Data)\n",
    "Covariance[\"PbPb5020\"][(\"Y\", \"C0\")][(\"Y\", \"C0\")] = Reader.EstimateCovariance(RawData1, RawData1, SysLength = {\"default\": 0.2})\n",
    "Covariance[\"PbPb5020\"][(\"Y\", \"C1\")][(\"Y\", \"C1\")] = Reader.EstimateCovariance(RawData2, RawData2, SysLength = {\"default\": 0.2})\n",
    "\n",
    "# This is how we can add off-diagonal matrices\n",
    "# Covariance[\"PbPb5020\"][(\"R_AA\", \"C0\")][(\"R_AA\", \"C1\")] = Reader.EstimateCovariance(RawData1, RawData2, SysLength = {\"default\": 100}, SysStrength = {\"default\": 0.1})\n",
    "# Covariance[\"PbPb5020\"][(\"R_AA\", \"C1\")][(\"R_AA\", \"C0\")] = Reader.EstimateCovariance(RawData2, RawData1, SysLength = {\"default\": 100}, SysStrength = {\"default\": 0.1})\n",
    "\n",
    "# This is how we can supply external pre-generated matrices\n",
    "# Covariance[\"PbPb5020\"][(\"R_AA\", \"C0\")][(\"R_AA\", \"C0\")] = RawCov55E[\"Matrix\"]\n",
    "# Covariance[\"PbPb5020\"][(\"R_AA\", \"C1\")][(\"R_AA\", \"C1\")] = RawCov66E[\"Matrix\"]\n",
    "\n",
    "\n",
    "# Assign data to the dictionary\n",
    "AllData[\"design\"] = RawDesign[\"Design\"]\n",
    "AllData[\"model\"] = Prediction\n",
    "AllData[\"data\"] = Data\n",
    "AllData[\"cov\"] = Covariance\n",
    "\n",
    "# Save to the desired pickle file\n",
    "with open('input/default.p', 'wb') as handle:\n",
    "    pickle.dump(AllData, handle, protocol = pickle.HIGHEST_PROTOCOL)"
   ]
  },
  {
   "cell_type": "markdown",
   "metadata": {},
   "source": [
    "### Exercise 1-a: plot data"
   ]
  },
  {
   "cell_type": "code",
   "execution_count": null,
   "metadata": {},
   "outputs": [],
   "source": [
    "print(AllData['data'])"
   ]
  },
  {
   "cell_type": "code",
   "execution_count": null,
   "metadata": {},
   "outputs": [],
   "source": [
    "figure, axes = plt.subplots(figsize = (10, 5), ncols = 2, nrows = 1)\n",
    "\n",
    "DataX1    = AllData[\"data\"]['PbPb5020']['Y']['C0']['x']\n",
    "DataY1    = AllData[\"data\"]['PbPb5020']['Y']['C0']['y']\n",
    "DataStat1 = AllData[\"data\"]['PbPb5020']['Y']['C0']['yerr']['stat'][:,0]\n",
    "DataSys1  = AllData[\"data\"]['PbPb5020']['Y']['C0']['yerr']['sys'][:,0]\n",
    "DataErr1  = np.sqrt(DataStat1**2 + DataSys1**2)\n",
    "\n",
    "DataX2    = AllData[\"data\"]['PbPb5020']['Y']['C1']['x']\n",
    "DataY2    = AllData[\"data\"]['PbPb5020']['Y']['C1']['y']\n",
    "DataStat2 = AllData[\"data\"]['PbPb5020']['Y']['C1']['yerr']['stat'][:,0]\n",
    "DataSys2  = AllData[\"data\"]['PbPb5020']['Y']['C1']['yerr']['sys'][:,0]\n",
    "DataErr2  = np.sqrt(DataStat2**2 + DataSys2**2)\n",
    "\n",
    "axes[0].errorbar(DataX1, DataY1, yerr = DataErr1, fmt='ro', label=\"Measurements\")\n",
    "axes[1].errorbar(DataX2, DataY2, yerr = DataErr2, fmt='ro', label=\"Measurements\")"
   ]
  },
  {
   "cell_type": "markdown",
   "metadata": {},
   "source": [
    "### Exercise 1-b: plot \"theory\" predictions on top of the data"
   ]
  },
  {
   "cell_type": "code",
   "execution_count": null,
   "metadata": {},
   "outputs": [],
   "source": [
    "print(AllData[\"model\"])"
   ]
  },
  {
   "cell_type": "code",
   "execution_count": null,
   "metadata": {},
   "outputs": [],
   "source": [
    "DataX1    = AllData[\"data\"]['PbPb5020']['Y']['C0']['x']\n",
    "DataY1    = AllData[\"data\"]['PbPb5020']['Y']['C0']['y']\n",
    "DataStat1 = AllData[\"data\"]['PbPb5020']['Y']['C0']['yerr']['stat'][:,0]\n",
    "DataSys1  = AllData[\"data\"]['PbPb5020']['Y']['C0']['yerr']['sys'][:,0]\n",
    "DataErr1  = np.sqrt(DataStat1**2 + DataSys1**2)\n",
    "\n",
    "DataX2    = AllData[\"data\"]['PbPb5020']['Y']['C1']['x']\n",
    "DataY2    = AllData[\"data\"]['PbPb5020']['Y']['C1']['y']\n",
    "DataStat2 = AllData[\"data\"]['PbPb5020']['Y']['C1']['yerr']['stat'][:,0]\n",
    "DataSys2  = AllData[\"data\"]['PbPb5020']['Y']['C1']['yerr']['sys'][:,0]\n",
    "DataErr2  = np.sqrt(DataStat2**2 + DataSys2**2)\n",
    "\n",
    "PredictionsY1 = AllData[\"model\"]['PbPb5020']['Y']['C0']['Y']\n",
    "PredictionsX1 = AllData[\"model\"]['PbPb5020']['Y']['C0']['x']\n",
    "PredictionsY2 = AllData[\"model\"]['PbPb5020']['Y']['C1']['Y']\n",
    "PredictionsX2 = AllData[\"model\"]['PbPb5020']['Y']['C1']['x']\n",
    "\n",
    "figure, axes = plt.subplots(figsize = (10, 5), ncols = 2, nrows = 1)\n",
    "\n",
    "axes[0].errorbar(DataX1, DataY1, yerr = DataErr1, fmt='ro', label=\"Measurements\")\n",
    "for Item in PredictionsY1:\n",
    "    axes[0].plot(PredictionsX1, Item, 'b-', alpha=0.25)\n",
    "\n",
    "axes[1].errorbar(DataX2, DataY2, yerr = DataErr2, fmt='ro', label=\"Measurements\")\n",
    "for Item in PredictionsY2:\n",
    "    axes[1].plot(PredictionsX2, Item, 'b-', alpha=0.25)"
   ]
  },
  {
   "cell_type": "markdown",
   "metadata": {},
   "source": [
    "### Exercise 1-c: plot the design points"
   ]
  },
  {
   "cell_type": "code",
   "execution_count": null,
   "metadata": {},
   "outputs": [],
   "source": [
    "print(AllData['design'])"
   ]
  },
  {
   "cell_type": "code",
   "execution_count": null,
   "metadata": {
    "scrolled": true
   },
   "outputs": [],
   "source": [
    "figure, axes = plt.subplots(figsize = (15, 5), ncols = 3, nrows = 1)\n",
    "\n",
    "# Plot A vs B\n",
    "axes[0].set_xlabel('A')\n",
    "axes[0].set_ylabel('B')\n",
    "axes[0].scatter(AllData['design'][:,0], AllData['design'][:,1])\n",
    "# Plot A vs C\n",
    "axes[1].set_xlabel('A')\n",
    "axes[1].set_ylabel('C')\n",
    "axes[1].scatter(AllData['design'][:,0], AllData['design'][:,2])\n",
    "# Plot B vs C\n",
    "axes[2].set_xlabel('B')\n",
    "axes[2].set_ylabel('C')\n",
    "axes[2].scatter(AllData['design'][:,1], AllData['design'][:,2])"
   ]
  },
  {
   "cell_type": "markdown",
   "metadata": {},
   "source": [
    "### Exercise 1-d: plot covariance matrix"
   ]
  },
  {
   "cell_type": "code",
   "execution_count": null,
   "metadata": {},
   "outputs": [],
   "source": [
    "print(AllData['cov'])"
   ]
  },
  {
   "cell_type": "code",
   "execution_count": null,
   "metadata": {},
   "outputs": [],
   "source": [
    "figure, axes = plt.subplots(figsize = (10, 5), ncols = 2, nrows = 1)\n",
    "\n",
    "Covariance1 = AllData['cov']['PbPb5020'][('Y','C0')][('Y','C0')]\n",
    "Covariance2 = AllData['cov']['PbPb5020'][('Y','C1')][('Y','C1')]\n",
    "\n",
    "axes[0].set_xlabel('Bin index')\n",
    "axes[0].set_ylabel('Bin index')\n",
    "axes[0].imshow(Covariance1, cmap = 'Blues', interpolation = 'nearest', extent=[0,6,6,0])\n",
    "\n",
    "axes[1].set_xlabel('Bin index')\n",
    "axes[1].set_ylabel('Bin index')\n",
    "axes[1].imshow(Covariance2, cmap = 'Blues', interpolation = 'nearest', extent=[0,11,11,0])"
   ]
  },
  {
   "cell_type": "markdown",
   "metadata": {},
   "source": [
    "### Optional: clean past files"
   ]
  },
  {
   "cell_type": "code",
   "execution_count": null,
   "metadata": {},
   "outputs": [],
   "source": [
    "# Clean past MCMC samples\n",
    "if os.path.exists('cache/mcmc_chain.hdf'):\n",
    "    os.remove(\"cache/mcmc_chain.hdf\")\n",
    "\n",
    "# Clean past emulator\n",
    "for system in AllData[\"systems\"]:\n",
    "    if os.path.exists('cache/emulator/' + system + \".pkl\"):\n",
    "        os.remove('cache/emulator/' + system + \".pkl\")"
   ]
  },
  {
   "cell_type": "markdown",
   "metadata": {},
   "source": [
    "## Step 2: run emulator"
   ]
  },
  {
   "cell_type": "code",
   "execution_count": null,
   "metadata": {},
   "outputs": [],
   "source": [
    "! python3 -m src.emulator --retrain --npc 8 --nrestarts 50 "
   ]
  },
  {
   "cell_type": "code",
   "execution_count": null,
   "metadata": {},
   "outputs": [],
   "source": [
    "from src import lazydict, emulator\n",
    "EmulatorPbPb5020 = emulator.Emulator.from_cache('PbPb5020')"
   ]
  },
  {
   "cell_type": "markdown",
   "metadata": {},
   "source": [
    "## Step 3: MCMC sampling"
   ]
  },
  {
   "cell_type": "code",
   "execution_count": null,
   "metadata": {},
   "outputs": [],
   "source": [
    "if os.path.exists('cache/mcmc_chain.hdf'):\n",
    "    os.remove(\"cache/mcmc_chain.hdf\")\n",
    "! python3 -m src.mcmc --nwalkers 100 --nburnsteps 1000 1000"
   ]
  },
  {
   "cell_type": "code",
   "execution_count": null,
   "metadata": {},
   "outputs": [],
   "source": [
    "import src\n",
    "src.Initialize()\n",
    "from src import mcmc\n",
    "chain = mcmc.Chain()\n",
    "MCMCSamples = chain.load()"
   ]
  },
  {
   "cell_type": "markdown",
   "metadata": {},
   "source": [
    "### Exercise 3-a: plot posterior function directly for A = 0.3"
   ]
  },
  {
   "cell_type": "code",
   "execution_count": null,
   "metadata": {},
   "outputs": [],
   "source": [
    "A = 0.3\n",
    "Grid = [[A, B * 0.01, C * 0.01] for B in range(10, 100, 10) for C in range(10, 100, 10)]"
   ]
  },
  {
   "cell_type": "code",
   "execution_count": null,
   "metadata": {},
   "outputs": [],
   "source": [
    "Posterior = chain.log_posterior(Grid)\n",
    "\n",
    "figure, axes = plt.subplots(figsize = (5, 5), ncols = 1, nrows = 1)\n",
    "\n",
    "axes.set_xlabel('B')\n",
    "axes.set_ylabel('C')\n",
    "axes.imshow(Posterior.reshape(9, 9), cmap = 'Blues', extent = [0.05,0.95,0.95,0.05])"
   ]
  },
  {
   "cell_type": "markdown",
   "metadata": {},
   "source": [
    "### Exercise 3-b: plot \"chi^2\" from data and \"truth\", again for A = 0.3"
   ]
  },
  {
   "cell_type": "code",
   "execution_count": null,
   "metadata": {},
   "outputs": [],
   "source": [
    "DataX1    = AllData[\"data\"]['PbPb5020']['Y']['C0']['x']\n",
    "DataY1    = AllData[\"data\"]['PbPb5020']['Y']['C0']['y']\n",
    "DataStat1 = AllData[\"data\"]['PbPb5020']['Y']['C0']['yerr']['stat'][:,0]\n",
    "DataSys1  = AllData[\"data\"]['PbPb5020']['Y']['C0']['yerr']['sys'][:,0]\n",
    "DataErr1  = np.sqrt(DataStat1**2 + DataSys1**2)\n",
    "\n",
    "DataX2    = AllData[\"data\"]['PbPb5020']['Y']['C1']['x']\n",
    "DataY2    = AllData[\"data\"]['PbPb5020']['Y']['C1']['y']\n",
    "DataStat2 = AllData[\"data\"]['PbPb5020']['Y']['C1']['yerr']['stat'][:,0]\n",
    "DataSys2  = AllData[\"data\"]['PbPb5020']['Y']['C1']['yerr']['sys'][:,0]\n",
    "DataErr2  = np.sqrt(DataStat2**2 + DataSys2**2)\n",
    "\n",
    "Chi2 = np.zeros(len(Grid))\n",
    "for i, p in enumerate(Grid):\n",
    "    TruthY1 = [(p[0] + p[1] * x * 0.01 + p[2] * x**2 * 0.01**2) for x in DataX1]\n",
    "    TruthY2 = [(p[0] + p[1] * x * 0.01 + p[2] * x**2 * 0.01**2) for x in DataX2]\n",
    "    Chi2[i] = np.sum(((TruthY1 - DataY1) / DataErr1)**2) + np.sum(((TruthY2 - DataY2) / DataErr2)**2)\n",
    "    \n",
    "figure, axes = plt.subplots(figsize = (5, 5), ncols = 1, nrows = 1)\n",
    "\n",
    "axes.set_xlabel('B')\n",
    "axes.set_ylabel('C')\n",
    "axes.imshow(Chi2.reshape(9, 9), cmap = 'Greens_r', extent = [0.05,0.95,0.95,0.05])"
   ]
  },
  {
   "cell_type": "markdown",
   "metadata": {},
   "source": [
    "## Step 4: analyze the posterior samples"
   ]
  },
  {
   "cell_type": "markdown",
   "metadata": {},
   "source": [
    "### MCMC samples plot"
   ]
  },
  {
   "cell_type": "code",
   "execution_count": null,
   "metadata": {},
   "outputs": [],
   "source": [
    "with chain.dataset() as d:\n",
    "    W = d.shape[0]     # number of walkers\n",
    "    S = d.shape[1]     # number of steps\n",
    "    N = d.shape[2]     # number of paramters\n",
    "    T = int(S / 200)   # \"thinning\"\n",
    "    A = 20 / W\n",
    "    figure, axes = plt.subplots(figsize = (15, 2 * N), ncols = 1, nrows = N)\n",
    "    for i, ax in enumerate(axes):\n",
    "        for j in range(0, W):\n",
    "            ax.plot(range(0, S, T), d[j, ::T, i], alpha = A)\n",
    "    plt.tight_layout(True)\n",
    "    plt.savefig('plots/MCMCSamples.pdf', dpi = 192)"
   ]
  },
  {
   "cell_type": "markdown",
   "metadata": {},
   "source": [
    "### Posterior on parameters"
   ]
  },
  {
   "cell_type": "code",
   "execution_count": null,
   "metadata": {},
   "outputs": [],
   "source": [
    "NDimension = len(AllData[\"labels\"])\n",
    "Ranges = np.array(AllData[\"ranges\"]).T\n",
    "figure, axes = plt.subplots(figsize = (3 * NDimension, 3 * NDimension), ncols = NDimension, nrows = NDimension)\n",
    "Names = AllData[\"labels\"]\n",
    "for i, row in enumerate(axes):\n",
    "    for j, ax in enumerate(row):\n",
    "        if i==j:\n",
    "            ax.hist(MCMCSamples[:,i], bins=50,\n",
    "                    range=Ranges[:,i], histtype='step', color='green')\n",
    "            ax.set_xlabel(Names[i])\n",
    "            ax.set_xlim(*Ranges[:,j])\n",
    "        if i>j:\n",
    "            ax.hist2d(MCMCSamples[:, j], MCMCSamples[:, i], \n",
    "                      bins=50, range=[Ranges[:,j], Ranges[:,i]], \n",
    "                      cmap='Greens')\n",
    "            ax.set_xlabel(Names[j])\n",
    "            ax.set_ylabel(Names[i])\n",
    "            ax.set_xlim(*Ranges[:,j])\n",
    "            ax.set_ylim(*Ranges[:,i])\n",
    "        if i<j:\n",
    "            ax.axis('off')\n",
    "plt.tight_layout(True)\n",
    "plt.savefig('plots/Correlation.pdf', dpi = 192)\n",
    "# figure"
   ]
  },
  {
   "cell_type": "markdown",
   "metadata": {},
   "source": [
    "### Posterior on top of data"
   ]
  },
  {
   "cell_type": "code",
   "execution_count": null,
   "metadata": {},
   "outputs": [],
   "source": [
    "Examples = MCMCSamples[ np.random.choice(range(len(MCMCSamples)), 5000), :]\n",
    "\n",
    "TempPrediction = {\"PbPb5020\": EmulatorPbPb5020.predict(Examples)}\n",
    "\n",
    "figure, axes = plt.subplots(figsize = (10, 5), ncols = 2, nrows = 1)\n",
    "\n",
    "axes[0].set_xlabel(r\"$X$\")\n",
    "axes[0].set_ylabel(r\"$Y$\")\n",
    "axes[1].set_xlabel(r\"$X$\")\n",
    "axes[1].set_ylabel(r\"$Y$\")\n",
    "\n",
    "DataX1    = AllData[\"data\"]['PbPb5020']['Y']['C0']['x']\n",
    "DataY1    = AllData[\"data\"]['PbPb5020']['Y']['C0']['y']\n",
    "DataStat1 = AllData[\"data\"]['PbPb5020']['Y']['C0']['yerr']['stat'][:,0]\n",
    "DataSys1  = AllData[\"data\"]['PbPb5020']['Y']['C0']['yerr']['sys'][:,0]\n",
    "DataErr1  = np.sqrt(DataStat1**2 + DataSys1**2)\n",
    "\n",
    "DataX2    = AllData[\"data\"]['PbPb5020']['Y']['C1']['x']\n",
    "DataY2    = AllData[\"data\"]['PbPb5020']['Y']['C1']['y']\n",
    "DataStat2 = AllData[\"data\"]['PbPb5020']['Y']['C1']['yerr']['stat'][:,0]\n",
    "DataSys2  = AllData[\"data\"]['PbPb5020']['Y']['C1']['yerr']['sys'][:,0]\n",
    "DataErr2  = np.sqrt(DataStat2**2 + DataSys2**2)\n",
    "\n",
    "for i, y in enumerate(TempPrediction['PbPb5020']['Y']['C0']):\n",
    "    axes[0].plot(DataX1, y, 'b-', alpha=0.0025, label=\"Posterior\" if i==0 else '')\n",
    "axes[0].errorbar(DataX1, DataY1, yerr = DataErr1, fmt='ro', label=\"Measurements\")\n",
    "\n",
    "for i, y in enumerate(TempPrediction['PbPb5020']['Y']['C1']):\n",
    "    axes[1].plot(DataX2, y, 'b-', alpha=0.0025, label=\"Posterior\" if i==0 else '')\n",
    "axes[1].errorbar(DataX2, DataY2, yerr = DataErr2, fmt='ro', label=\"Measurements\")\n",
    "\n",
    "plt.tight_layout(True)\n",
    "figure.savefig('plots/ObservablePosterior.pdf', dpi = 192)\n",
    "# figure"
   ]
  },
  {
   "cell_type": "code",
   "execution_count": null,
   "metadata": {},
   "outputs": [],
   "source": [
    "# close all plots to save memory\n",
    "plt.close('all')"
   ]
  },
  {
   "cell_type": "code",
   "execution_count": null,
   "metadata": {},
   "outputs": [],
   "source": []
  }
 ],
 "metadata": {
  "kernelspec": {
   "display_name": "Python 3",
   "language": "python",
   "name": "python3"
  },
  "language_info": {
   "codemirror_mode": {
    "name": "ipython",
    "version": 3
   },
   "file_extension": ".py",
   "mimetype": "text/x-python",
   "name": "python",
   "nbconvert_exporter": "python",
   "pygments_lexer": "ipython3",
   "version": "3.6.9"
  }
 },
 "nbformat": 4,
 "nbformat_minor": 4
}
